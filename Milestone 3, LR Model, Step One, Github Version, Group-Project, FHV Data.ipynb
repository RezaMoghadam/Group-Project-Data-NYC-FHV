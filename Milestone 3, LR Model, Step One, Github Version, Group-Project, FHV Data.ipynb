{
 "cells": [
  {
   "cell_type": "markdown",
   "id": "cfdfb349-38d0-428e-95fe-6a6445b799ac",
   "metadata": {},
   "source": [
    "# DSC 232 – Group Project  \n",
    "**Dataset:** NYC For-Hire Vehicle (FHV) – Uber, Lyft, Juno, Via\n"
   ]
  },
  {
   "cell_type": "markdown",
   "id": "79df2e10-0aca-4f1f-9c54-1e98b4ad2d74",
   "metadata": {},
   "source": [
    "# Milestone 2 – Exploratory Data Analysis (EDA)\n",
    "\n",
    "The primary goal of this milestone is to perform exploratory data analysis on the NYC FHV dataset.\n",
    "\n",
    "For full project details, see the [GitHub README](https://github.com/RezaMoghadam/Group-Project-Data-NYC-FHV/blob/main/README.md).\n"
   ]
  },
  {
   "cell_type": "markdown",
   "id": "b0860fdd-dd9d-4e07-81a5-4000f76d5017",
   "metadata": {},
   "source": [
    "This project analyzes NYC For-Hire Vehicle (FHV) data, covering ride records from 2019 to 2022.  \n",
    "It includes services like Juno, Uber, Lyft, and Via. The compressed dataset is approximately 19 GB in size.\n",
    "\n",
    "Due to its scale, we use the San Diego Supercomputer Center (SDSC) to process the data using Apache Spark.\n"
   ]
  },
  {
   "cell_type": "markdown",
   "id": "9a956e3d-dd7b-4118-ba46-6ff565e3af96",
   "metadata": {},
   "source": [
    "### Dataset Description\n",
    "\n",
    "This analysis uses the **NYC High Volume For-Hire Vehicle (HVFHV)** trip data, which includes detailed records of rides dispatched by major services such as Uber, Lyft, Via, and Juno from 2019 onward.\n",
    "\n",
    "Each row represents a single trip and includes fields such as:\n",
    "\n",
    "- `pickup_datetime` / `dropoff_datetime`: Timestamps for the ride\n",
    "- `trip_miles`: Distance of the trip in miles\n",
    "- `trip_time`: Duration of the ride in seconds\n",
    "- `base_passenger_fare`: Fare before additional fees or tips\n",
    "- `driver_pay`: Net pay received by the driver\n",
    "- `tips`, `tolls`, `sales_tax`, `airport_fee`, etc.: Breakdown of monetary components\n",
    "- `PULocationID`, `DOLocationID`: Pickup and drop-off taxi zone identifiers\n",
    "- Flags for shared rides, wheelchair accessibility, and MTA involvement\n",
    "\n",
    "For full details, refer to the official [NYC TLC Data Dictionary (PDF)](sandbox:/mnt/data/data_dictionary_trip_records_hvfhs.pdf).\n"
   ]
  },
  {
   "cell_type": "markdown",
   "id": "c81cbe7e-e935-4979-a3a7-7c714206f4c7",
   "metadata": {},
   "source": [
    "The main step is to start the Spark Session and configure the available resources."
   ]
  },
  {
   "cell_type": "code",
   "execution_count": 1,
   "id": "e9363db0-c09e-4a2e-bdc9-be73d8806521",
   "metadata": {},
   "outputs": [
    {
     "name": "stdout",
     "output_type": "stream",
     "text": [
      "3.5.0\n"
     ]
    }
   ],
   "source": [
    "import pyspark\n",
    "print(pyspark.__version__)\n",
    "from pyspark.sql import SparkSession"
   ]
  },
  {
   "cell_type": "code",
   "execution_count": 2,
   "id": "f988deca-81de-4568-91b9-06fd782de942",
   "metadata": {},
   "outputs": [],
   "source": [
    "sc = SparkSession.builder \\\n",
    "    .config(\"spark.driver.memory\", \"8g\") \\\n",
    "    .config(\"spark.executor.memory\", \"8g\") \\\n",
    "    .config('spark.executor.instances', 5) \\\n",
    "    .config('spark.executor.cores', 2) \\\n",
    "    .getOrCreate()"
   ]
  },
  {
   "cell_type": "markdown",
   "id": "020262ac-531f-4e59-83dc-b966d6f25841",
   "metadata": {},
   "source": [
    "Since the project files are in Parquet format, we use the appropriate app to read them. "
   ]
  },
  {
   "cell_type": "code",
   "execution_count": 3,
   "id": "504d6c18-8ab4-4545-aee0-ebaf8d626939",
   "metadata": {},
   "outputs": [],
   "source": [
    "spark = SparkSession.builder \\\n",
    "    .appName(\"Read Parquet\") \\\n",
    "    .getOrCreate()"
   ]
  },
  {
   "cell_type": "markdown",
   "id": "f7275334-559b-4885-b8f7-9e755700a0b2",
   "metadata": {},
   "source": [
    "We load all Parquet files into a PySpark DataFrame (`df`) and examine the schema and first 20 rows to understand the structure."
   ]
  },
  {
   "cell_type": "code",
   "execution_count": 4,
   "id": "0f660ae8-1fcd-437e-933f-9be0bd1fd6a3",
   "metadata": {},
   "outputs": [
    {
     "name": "stdout",
     "output_type": "stream",
     "text": [
      "root\n",
      " |-- hvfhs_license_num: string (nullable = true)\n",
      " |-- dispatching_base_num: string (nullable = true)\n",
      " |-- originating_base_num: string (nullable = true)\n",
      " |-- request_datetime: timestamp_ntz (nullable = true)\n",
      " |-- on_scene_datetime: timestamp_ntz (nullable = true)\n",
      " |-- pickup_datetime: timestamp_ntz (nullable = true)\n",
      " |-- dropoff_datetime: timestamp_ntz (nullable = true)\n",
      " |-- PULocationID: long (nullable = true)\n",
      " |-- DOLocationID: long (nullable = true)\n",
      " |-- trip_miles: double (nullable = true)\n",
      " |-- trip_time: long (nullable = true)\n",
      " |-- base_passenger_fare: double (nullable = true)\n",
      " |-- tolls: double (nullable = true)\n",
      " |-- bcf: double (nullable = true)\n",
      " |-- sales_tax: double (nullable = true)\n",
      " |-- congestion_surcharge: double (nullable = true)\n",
      " |-- airport_fee: integer (nullable = true)\n",
      " |-- tips: double (nullable = true)\n",
      " |-- driver_pay: double (nullable = true)\n",
      " |-- shared_request_flag: string (nullable = true)\n",
      " |-- shared_match_flag: string (nullable = true)\n",
      " |-- access_a_ride_flag: string (nullable = true)\n",
      " |-- wav_request_flag: string (nullable = true)\n",
      " |-- wav_match_flag: integer (nullable = true)\n",
      "\n",
      "+-----------------+--------------------+--------------------+-------------------+-------------------+-------------------+-------------------+------------+------------+----------+---------+-------------------+-----+----+---------+--------------------+-----------+----+----------+-------------------+-----------------+------------------+----------------+--------------+\n",
      "|hvfhs_license_num|dispatching_base_num|originating_base_num|   request_datetime|  on_scene_datetime|    pickup_datetime|   dropoff_datetime|PULocationID|DOLocationID|trip_miles|trip_time|base_passenger_fare|tolls| bcf|sales_tax|congestion_surcharge|airport_fee|tips|driver_pay|shared_request_flag|shared_match_flag|access_a_ride_flag|wav_request_flag|wav_match_flag|\n",
      "+-----------------+--------------------+--------------------+-------------------+-------------------+-------------------+-------------------+------------+------------+----------+---------+-------------------+-----+----+---------+--------------------+-----------+----+----------+-------------------+-----------------+------------------+----------------+--------------+\n",
      "|           HV0003|              B02867|              B02867|2019-02-01 00:01:26|2019-02-01 00:02:55|2019-02-01 00:05:18|2019-02-01 00:14:57|         245|         251|      2.45|      579|               9.35|  0.0|0.23|     0.83|                 0.0|       NULL| 0.0|      7.48|                  Y|                N|                 N|               N|          NULL|\n",
      "|           HV0003|              B02879|              B02879|2019-02-01 00:26:08|2019-02-01 00:41:29|2019-02-01 00:41:29|2019-02-01 00:49:39|         216|         197|      1.71|      490|               7.91|  0.0| 0.2|      0.7|                 0.0|       NULL| 2.0|      7.93|                  N|                N|                 N|               N|          NULL|\n",
      "|           HV0005|              B02510|                NULL|2019-02-01 00:48:58|               NULL|2019-02-01 00:51:34|2019-02-01 01:28:29|         261|         234|      5.01|     2159|              44.96|  0.0|1.12|     3.99|                 0.0|       NULL| 0.0|     35.97|                  N|                Y|                 N|               N|          NULL|\n",
      "|           HV0005|              B02510|                NULL|2019-02-01 00:02:15|               NULL|2019-02-01 00:03:51|2019-02-01 00:07:16|          87|          87|      0.34|      179|               7.19|  0.0|0.18|     0.64|                 0.0|       NULL| 3.0|      5.39|                  N|                Y|                 N|               N|          NULL|\n",
      "|           HV0005|              B02510|                NULL|2019-02-01 00:06:17|               NULL|2019-02-01 00:09:44|2019-02-01 00:39:56|          87|         198|      6.84|     1799|              24.25| 0.11|0.61|     2.16|                 0.0|       NULL| 4.0|     17.07|                  N|                Y|                 N|               N|          NULL|\n",
      "|           HV0005|              B02510|                NULL|2019-02-01 00:56:01|               NULL|2019-02-01 00:59:55|2019-02-01 01:06:28|         198|         198|      1.11|      359|               5.75|  0.0|0.14|     0.51|                 0.0|       NULL| 0.0|       0.0|                  Y|                Y|                 N|               N|          NULL|\n",
      "|           HV0005|              B02510|                NULL|2019-02-01 00:07:17|               NULL|2019-02-01 00:12:06|2019-02-01 00:42:13|         161|         148|      4.53|     1799|              16.39|  0.0|0.41|     1.45|                 0.0|       NULL| 0.0|     14.31|                  N|                Y|                 N|               N|          NULL|\n",
      "|           HV0005|              B02510|                NULL|2019-02-01 00:43:33|               NULL|2019-02-01 00:45:35|2019-02-01 01:14:56|         148|          21|     11.24|     1739|              29.77| 0.72|0.76|     2.71|                 0.0|       NULL| 0.0|     22.09|                  N|                Y|                 N|               N|          NULL|\n",
      "|           HV0003|              B02867|              B02867|2019-02-01 00:00:35|2019-02-01 00:09:33|2019-02-01 00:10:48|2019-02-01 00:20:23|         226|         260|      1.59|      574|               6.99|  0.0|0.17|     0.62|                 0.0|       NULL| 0.0|      6.51|                  Y|                N|                 N|               N|          NULL|\n",
      "|           HV0003|              B02867|              B02867|2019-02-01 00:29:16|2019-02-01 00:31:21|2019-02-01 00:32:32|2019-02-01 00:40:25|           7|         223|       1.9|      474|               7.05|  0.0|0.18|     0.63|                 0.0|       NULL| 0.0|      6.01|                  Y|                N|                 N|               N|          NULL|\n",
      "|           HV0003|              B02867|              B02867|2019-02-01 00:55:48|2019-02-01 00:58:45|2019-02-01 00:59:54|2019-02-01 01:09:31|         129|          70|      2.74|      576|              10.36|  0.0|0.26|     0.92|                 0.0|       NULL| 0.0|      7.77|                  N|                N|                 N|               N|          NULL|\n",
      "|           HV0003|              B02764|              B02764|2019-01-31 23:58:20|2019-01-31 23:58:30|2019-02-01 00:01:11|2019-02-01 00:21:35|         263|         229|      7.91|     1225|               9.48|  0.0|0.63|     2.22|                 0.0|       NULL| 0.0|     20.05|                  N|                N|                 N|               N|          NULL|\n",
      "|           HV0003|              B02764|              B02764|2019-02-01 00:33:43|2019-02-01 00:36:22|2019-02-01 00:36:22|2019-02-01 00:55:30|         162|         129|      7.21|     1148|              20.69| 5.76|0.66|     2.35|                 0.0|       NULL| 0.0|     23.16|                  N|                N|                 N|               N|          NULL|\n",
      "|           HV0002|              B02914|              B02914|2019-02-01 00:05:50|               NULL|2019-02-01 00:10:09|2019-02-01 00:31:04|         161|          33|      6.93|     1254|              21.46|  0.0|0.47|     1.71|                NULL|       NULL|3.55|     17.71|                  N|                N|                 N|               N|          NULL|\n",
      "|           HV0003|              B02864|              B02864|2019-02-01 00:54:59|2019-02-01 00:55:05|2019-02-01 00:57:50|2019-02-01 01:05:08|         258|         197|      2.16|      438|                8.5|  0.0|0.21|     0.75|                 0.0|       NULL| 0.0|      5.99|                  N|                N|                 N|               N|          NULL|\n",
      "|           HV0003|              B02875|              B02875|2019-01-31 23:59:01|2019-02-01 00:01:00|2019-02-01 00:05:24|2019-02-01 00:17:13|         255|          17|      2.92|      710|              11.51|  0.0|0.29|     1.02|                 0.0|       NULL| 0.0|      8.53|                  N|                N|                 N|               N|          NULL|\n",
      "|           HV0003|              B02875|              B02875|2019-02-01 00:24:04|2019-02-01 00:25:56|2019-02-01 00:27:38|2019-02-01 00:32:36|         255|         112|      1.09|      298|               3.92|  0.0| 0.1|     0.35|                 0.0|       NULL| 0.0|      5.64|                  Y|                N|                 N|               N|          NULL|\n",
      "|           HV0003|              B02875|              B02875|2019-02-01 00:47:49|2019-02-01 00:48:04|2019-02-01 00:52:50|2019-02-01 00:56:02|         234|         137|      0.37|      192|               7.81|  0.0| 0.2|     0.69|                 0.0|       NULL| 0.0|      6.11|                  N|                N|                 N|               N|          NULL|\n",
      "|           HV0003|              B02682|              B02682|2019-02-01 00:25:04|2019-02-01 00:25:24|2019-02-01 00:30:24|2019-02-01 00:59:08|         163|         256|      8.09|     1724|              26.34| 5.76| 0.8|     2.85|                 0.0|       NULL| 0.0|     28.99|                  N|                N|                 N|               N|          NULL|\n",
      "|           HV0003|              B02682|              B02682|2019-02-01 00:32:37|2019-02-01 00:32:43|2019-02-01 00:35:06|2019-02-01 00:44:27|         161|         262|       2.4|      561|              22.16|  0.0|0.55|     1.97|                 0.0|       NULL| 0.0|     16.35|                  N|                N|                 N|               N|          NULL|\n",
      "+-----------------+--------------------+--------------------+-------------------+-------------------+-------------------+-------------------+------------+------------+----------+---------+-------------------+-----+----+---------+--------------------+-----------+----+----------+-------------------+-----------------+------------------+----------------+--------------+\n",
      "only showing top 20 rows\n",
      "\n"
     ]
    }
   ],
   "source": [
    "df = spark.read.parquet(\"Data/fhvhv_tripdata_*.parquet\")\n",
    "\n",
    "\n",
    "df.printSchema()\n",
    "df.show(20)\n",
    "\n"
   ]
  },
  {
   "cell_type": "markdown",
   "id": "fc6ed7cb-2918-4f62-8d20-c59141112763",
   "metadata": {},
   "source": [
    "We check the total number of records in the dataset."
   ]
  },
  {
   "cell_type": "code",
   "execution_count": 5,
   "id": "919cffbf-3ebe-416a-ab0a-fe0314903d89",
   "metadata": {},
   "outputs": [
    {
     "data": {
      "text/plain": [
       "745287023"
      ]
     },
     "execution_count": 5,
     "metadata": {},
     "output_type": "execute_result"
    }
   ],
   "source": [
    "df.count()"
   ]
  },
  {
   "cell_type": "markdown",
   "id": "e9f8aac6-34d6-493e-a745-047d42feaee6",
   "metadata": {},
   "source": [
    "We list all available columns in the DataFrame."
   ]
  },
  {
   "cell_type": "code",
   "execution_count": 6,
   "id": "77c1aa64-2d92-4b84-b985-58f1132ebbab",
   "metadata": {},
   "outputs": [
    {
     "data": {
      "text/plain": [
       "['hvfhs_license_num',\n",
       " 'dispatching_base_num',\n",
       " 'originating_base_num',\n",
       " 'request_datetime',\n",
       " 'on_scene_datetime',\n",
       " 'pickup_datetime',\n",
       " 'dropoff_datetime',\n",
       " 'PULocationID',\n",
       " 'DOLocationID',\n",
       " 'trip_miles',\n",
       " 'trip_time',\n",
       " 'base_passenger_fare',\n",
       " 'tolls',\n",
       " 'bcf',\n",
       " 'sales_tax',\n",
       " 'congestion_surcharge',\n",
       " 'airport_fee',\n",
       " 'tips',\n",
       " 'driver_pay',\n",
       " 'shared_request_flag',\n",
       " 'shared_match_flag',\n",
       " 'access_a_ride_flag',\n",
       " 'wav_request_flag',\n",
       " 'wav_match_flag']"
      ]
     },
     "execution_count": 6,
     "metadata": {},
     "output_type": "execute_result"
    }
   ],
   "source": [
    "df.columns\n",
    "\n"
   ]
  },
  {
   "cell_type": "markdown",
   "id": "3bc0c474-780c-44ce-ab79-ff906b44572d",
   "metadata": {},
   "source": [
    "# Data Cleaning\n",
    "\n",
    "Some columns are not relevant to our analysis goals. We drop those unnecessary columns in the following step."
   ]
  },
  {
   "cell_type": "code",
   "execution_count": 7,
   "id": "ed82ad81-29c9-4b3b-ad6c-f68fae65ca13",
   "metadata": {},
   "outputs": [],
   "source": [
    "df = df.drop(*[col for col in df.columns if col.endswith(\"_flag\")])\n"
   ]
  },
  {
   "cell_type": "code",
   "execution_count": 8,
   "id": "00483914-9f99-4d76-8b4c-8621ede666bf",
   "metadata": {},
   "outputs": [
    {
     "name": "stdout",
     "output_type": "stream",
     "text": [
      "+-----------------+--------------------+--------------------+-------------------+-------------------+-------------------+-------------------+------------+------------+----------+---------+-------------------+-----+----+---------+--------------------+-----------+----+----------+\n",
      "|hvfhs_license_num|dispatching_base_num|originating_base_num|   request_datetime|  on_scene_datetime|    pickup_datetime|   dropoff_datetime|PULocationID|DOLocationID|trip_miles|trip_time|base_passenger_fare|tolls| bcf|sales_tax|congestion_surcharge|airport_fee|tips|driver_pay|\n",
      "+-----------------+--------------------+--------------------+-------------------+-------------------+-------------------+-------------------+------------+------------+----------+---------+-------------------+-----+----+---------+--------------------+-----------+----+----------+\n",
      "|           HV0003|              B02867|              B02867|2019-02-01 00:01:26|2019-02-01 00:02:55|2019-02-01 00:05:18|2019-02-01 00:14:57|         245|         251|      2.45|      579|               9.35|  0.0|0.23|     0.83|                 0.0|       NULL| 0.0|      7.48|\n",
      "|           HV0003|              B02879|              B02879|2019-02-01 00:26:08|2019-02-01 00:41:29|2019-02-01 00:41:29|2019-02-01 00:49:39|         216|         197|      1.71|      490|               7.91|  0.0| 0.2|      0.7|                 0.0|       NULL| 2.0|      7.93|\n",
      "|           HV0005|              B02510|                NULL|2019-02-01 00:48:58|               NULL|2019-02-01 00:51:34|2019-02-01 01:28:29|         261|         234|      5.01|     2159|              44.96|  0.0|1.12|     3.99|                 0.0|       NULL| 0.0|     35.97|\n",
      "|           HV0005|              B02510|                NULL|2019-02-01 00:02:15|               NULL|2019-02-01 00:03:51|2019-02-01 00:07:16|          87|          87|      0.34|      179|               7.19|  0.0|0.18|     0.64|                 0.0|       NULL| 3.0|      5.39|\n",
      "|           HV0005|              B02510|                NULL|2019-02-01 00:06:17|               NULL|2019-02-01 00:09:44|2019-02-01 00:39:56|          87|         198|      6.84|     1799|              24.25| 0.11|0.61|     2.16|                 0.0|       NULL| 4.0|     17.07|\n",
      "|           HV0005|              B02510|                NULL|2019-02-01 00:56:01|               NULL|2019-02-01 00:59:55|2019-02-01 01:06:28|         198|         198|      1.11|      359|               5.75|  0.0|0.14|     0.51|                 0.0|       NULL| 0.0|       0.0|\n",
      "|           HV0005|              B02510|                NULL|2019-02-01 00:07:17|               NULL|2019-02-01 00:12:06|2019-02-01 00:42:13|         161|         148|      4.53|     1799|              16.39|  0.0|0.41|     1.45|                 0.0|       NULL| 0.0|     14.31|\n",
      "|           HV0005|              B02510|                NULL|2019-02-01 00:43:33|               NULL|2019-02-01 00:45:35|2019-02-01 01:14:56|         148|          21|     11.24|     1739|              29.77| 0.72|0.76|     2.71|                 0.0|       NULL| 0.0|     22.09|\n",
      "|           HV0003|              B02867|              B02867|2019-02-01 00:00:35|2019-02-01 00:09:33|2019-02-01 00:10:48|2019-02-01 00:20:23|         226|         260|      1.59|      574|               6.99|  0.0|0.17|     0.62|                 0.0|       NULL| 0.0|      6.51|\n",
      "|           HV0003|              B02867|              B02867|2019-02-01 00:29:16|2019-02-01 00:31:21|2019-02-01 00:32:32|2019-02-01 00:40:25|           7|         223|       1.9|      474|               7.05|  0.0|0.18|     0.63|                 0.0|       NULL| 0.0|      6.01|\n",
      "|           HV0003|              B02867|              B02867|2019-02-01 00:55:48|2019-02-01 00:58:45|2019-02-01 00:59:54|2019-02-01 01:09:31|         129|          70|      2.74|      576|              10.36|  0.0|0.26|     0.92|                 0.0|       NULL| 0.0|      7.77|\n",
      "|           HV0003|              B02764|              B02764|2019-01-31 23:58:20|2019-01-31 23:58:30|2019-02-01 00:01:11|2019-02-01 00:21:35|         263|         229|      7.91|     1225|               9.48|  0.0|0.63|     2.22|                 0.0|       NULL| 0.0|     20.05|\n",
      "|           HV0003|              B02764|              B02764|2019-02-01 00:33:43|2019-02-01 00:36:22|2019-02-01 00:36:22|2019-02-01 00:55:30|         162|         129|      7.21|     1148|              20.69| 5.76|0.66|     2.35|                 0.0|       NULL| 0.0|     23.16|\n",
      "|           HV0002|              B02914|              B02914|2019-02-01 00:05:50|               NULL|2019-02-01 00:10:09|2019-02-01 00:31:04|         161|          33|      6.93|     1254|              21.46|  0.0|0.47|     1.71|                NULL|       NULL|3.55|     17.71|\n",
      "|           HV0003|              B02864|              B02864|2019-02-01 00:54:59|2019-02-01 00:55:05|2019-02-01 00:57:50|2019-02-01 01:05:08|         258|         197|      2.16|      438|                8.5|  0.0|0.21|     0.75|                 0.0|       NULL| 0.0|      5.99|\n",
      "|           HV0003|              B02875|              B02875|2019-01-31 23:59:01|2019-02-01 00:01:00|2019-02-01 00:05:24|2019-02-01 00:17:13|         255|          17|      2.92|      710|              11.51|  0.0|0.29|     1.02|                 0.0|       NULL| 0.0|      8.53|\n",
      "|           HV0003|              B02875|              B02875|2019-02-01 00:24:04|2019-02-01 00:25:56|2019-02-01 00:27:38|2019-02-01 00:32:36|         255|         112|      1.09|      298|               3.92|  0.0| 0.1|     0.35|                 0.0|       NULL| 0.0|      5.64|\n",
      "|           HV0003|              B02875|              B02875|2019-02-01 00:47:49|2019-02-01 00:48:04|2019-02-01 00:52:50|2019-02-01 00:56:02|         234|         137|      0.37|      192|               7.81|  0.0| 0.2|     0.69|                 0.0|       NULL| 0.0|      6.11|\n",
      "|           HV0003|              B02682|              B02682|2019-02-01 00:25:04|2019-02-01 00:25:24|2019-02-01 00:30:24|2019-02-01 00:59:08|         163|         256|      8.09|     1724|              26.34| 5.76| 0.8|     2.85|                 0.0|       NULL| 0.0|     28.99|\n",
      "|           HV0003|              B02682|              B02682|2019-02-01 00:32:37|2019-02-01 00:32:43|2019-02-01 00:35:06|2019-02-01 00:44:27|         161|         262|       2.4|      561|              22.16|  0.0|0.55|     1.97|                 0.0|       NULL| 0.0|     16.35|\n",
      "+-----------------+--------------------+--------------------+-------------------+-------------------+-------------------+-------------------+------------+------------+----------+---------+-------------------+-----+----+---------+--------------------+-----------+----+----------+\n",
      "only showing top 20 rows\n",
      "\n"
     ]
    }
   ],
   "source": [
    "df.show()"
   ]
  },
  {
   "cell_type": "markdown",
   "id": "b0133d51-adb8-4ea4-bb5d-b0fe5d60d03d",
   "metadata": {},
   "source": [
    "We select the key features needed for analysis and drop rows containing null values."
   ]
  },
  {
   "cell_type": "code",
   "execution_count": 9,
   "id": "b6211ecd-551c-4c33-89f2-704c966613ec",
   "metadata": {},
   "outputs": [],
   "source": [
    "important_cols = [\n",
    "    \"pickup_datetime\", \"dropoff_datetime\", \"trip_miles\", \"trip_time\",\n",
    "    \"base_passenger_fare\", \"driver_pay\", \"PULocationID\", \"DOLocationID\"\n",
    "]\n",
    "\n",
    "df = df.dropna(subset=important_cols)\n"
   ]
  },
  {
   "cell_type": "markdown",
   "id": "a030c762-46ed-477d-9d71-b91b58b81b0c",
   "metadata": {},
   "source": [
    "We remove ride records with zero miles or zero fare, as they are likely invalid."
   ]
  },
  {
   "cell_type": "code",
   "execution_count": 10,
   "id": "b2d0f1e2-0859-41f9-8ec3-d94561169220",
   "metadata": {},
   "outputs": [],
   "source": [
    "df = df.filter(\n",
    "    \"trip_miles > 0 AND trip_time > 0 AND base_passenger_fare >= 0 AND driver_pay >= 0\"\n",
    ")\n"
   ]
  },
  {
   "cell_type": "markdown",
   "id": "2b0c89e6-7e92-4c77-850c-e14ba5b73880",
   "metadata": {},
   "source": [
    "We identify and remove outliers to ensure more reliable analysis."
   ]
  },
  {
   "cell_type": "code",
   "execution_count": 11,
   "id": "af7d7b7c-fa40-458c-9706-69fc935c399a",
   "metadata": {},
   "outputs": [],
   "source": [
    "df = df.filter(\"trip_miles < 100 AND trip_time < 7200 AND driver_pay < 500\")\n"
   ]
  },
  {
   "cell_type": "markdown",
   "id": "ed23f652-0eb6-4dd6-b23e-70edd84b45e7",
   "metadata": {},
   "source": [
    "We count the remaining records to assess how many were removed.  \n",
    "Approximately 2 million rows were dropped, which is relatively small compared to the total dataset size and should not affect overall model performance."
   ]
  },
  {
   "cell_type": "code",
   "execution_count": 12,
   "id": "c2ef54e9-393b-4ff3-812d-09033a4d7769",
   "metadata": {},
   "outputs": [
    {
     "data": {
      "text/plain": [
       "743008421"
      ]
     },
     "execution_count": 12,
     "metadata": {},
     "output_type": "execute_result"
    }
   ],
   "source": [
    "df.count()"
   ]
  },
  {
   "cell_type": "markdown",
   "id": "8af51a25-d694-4dcd-8a88-6b5072cb6864",
   "metadata": {},
   "source": [
    "The first plot shows the distribution of rides by hour of the day."
   ]
  },
  {
   "cell_type": "code",
   "execution_count": 13,
   "id": "50096c92-59b6-4cb6-912f-5789e86acd9c",
   "metadata": {},
   "outputs": [],
   "source": [
    "from pyspark.sql.functions import hour\n",
    "\n",
    "df_by_hour = df.withColumn(\"hour\", hour(\"pickup_datetime\"))\n"
   ]
  },
  {
   "cell_type": "code",
   "execution_count": 14,
   "id": "e418cba5-5262-4d09-97b9-e6ade009bfc7",
   "metadata": {},
   "outputs": [],
   "source": [
    "hourly_counts = df_by_hour.groupBy(\"hour\").count().orderBy(\"hour\")\n"
   ]
  },
  {
   "cell_type": "code",
   "execution_count": 15,
   "id": "ce4a3463-40c9-4be5-b06f-47760c317429",
   "metadata": {},
   "outputs": [],
   "source": [
    "pdf = hourly_counts.toPandas()\n"
   ]
  },
  {
   "cell_type": "code",
   "execution_count": 16,
   "id": "a238567e-2f6c-463c-8e47-ef66df1f2a4b",
   "metadata": {},
   "outputs": [
    {
     "name": "stderr",
     "output_type": "stream",
     "text": [
      "Matplotlib created a temporary cache directory at /scratch/rmoghadam/job_39785815/matplotlib-colm9wiy because the default path (/home/jovyan/.cache/matplotlib) is not a writable directory; it is highly recommended to set the MPLCONFIGDIR environment variable to a writable directory, in particular to speed up the import of Matplotlib and to better support multiprocessing.\n"
     ]
    },
    {
     "data": {
      "image/png": "[encoded data removed]",
      "text/plain": [
       "<Figure size 1000x500 with 1 Axes>"
      ]
     },
     "metadata": {},
     "output_type": "display_data"
    }
   ],
   "source": [
    "import matplotlib.pyplot as plt\n",
    "\n",
    "plt.figure(figsize=(10, 5))\n",
    "plt.plot(pdf[\"hour\"], pdf[\"count\"], marker='o')\n",
    "plt.title(\"Number of Rides per Hour of Day\")\n",
    "plt.xlabel(\"Hour of Day\")\n",
    "plt.ylabel(\"Number of Rides\")\n",
    "plt.grid(True)\n",
    "plt.xticks(range(0, 24))\n",
    "plt.show()\n"
   ]
  },
  {
   "cell_type": "markdown",
   "id": "0069a6a6-e845-440c-8483-87b1d4319b44",
   "metadata": {},
   "source": [
    "As observed in the plot, 5–7 PM represents the peak demand period for for-hire vehicle rides."
   ]
  },
  {
   "cell_type": "markdown",
   "id": "e4dbe7d5-5d78-4708-83fc-87c5685ba535",
   "metadata": {},
   "source": [
    "The following plot examines ride volume by hour and day of the week."
   ]
  },
  {
   "cell_type": "code",
   "execution_count": 17,
   "id": "b887605f-4119-410a-9406-dc76fe9f5934",
   "metadata": {},
   "outputs": [],
   "source": [
    "from pyspark.sql.functions import date_format\n",
    "\n",
    "df_hour_day = df.withColumn(\"hour\", hour(\"pickup_datetime\")) \\\n",
    "                .withColumn(\"weekday\", date_format(\"pickup_datetime\", \"E\"))  \n"
   ]
  },
  {
   "cell_type": "code",
   "execution_count": 18,
   "id": "76651f47-afac-4f52-b8e4-476afc67691d",
   "metadata": {},
   "outputs": [],
   "source": [
    "rides_by_hour_day = df_hour_day.groupBy(\"weekday\", \"hour\").count()\n"
   ]
  },
  {
   "cell_type": "markdown",
   "id": "005597b1-ed26-435b-8e9d-b0d19bfa500f",
   "metadata": {},
   "source": [
    "# We can skip to Milestone 3 after running this cell"
   ]
  },
  {
   "cell_type": "code",
   "execution_count": 19,
   "id": "9d33958b-d62f-4433-8141-dddcf63a8bf3",
   "metadata": {},
   "outputs": [],
   "source": [
    "pdf = rides_by_hour_day.toPandas()\n",
    "\n",
    "\n",
    "from pandas.api.types import CategoricalDtype\n",
    "\n",
    "weekday_order = [\"Mon\", \"Tue\", \"Wed\", \"Thu\", \"Fri\", \"Sat\", \"Sun\"]\n",
    "pdf[\"weekday\"] = pdf[\"weekday\"].astype(CategoricalDtype(categories=weekday_order, ordered=True))\n",
    "pdf = pdf.sort_values([\"weekday\", \"hour\"])\n"
   ]
  },
  {
   "cell_type": "code",
   "execution_count": null,
   "id": "46290022-ab20-4e18-8874-b445d822b453",
   "metadata": {},
   "outputs": [],
   "source": [
    "import seaborn as sns\n",
    "import pandas as pd\n",
    "\n",
    "# Pivot table for heatmap\n",
    "heatmap_data = pdf.pivot(index=\"weekday\", columns=\"hour\", values=\"count\")\n",
    "\n",
    "plt.figure(figsize=(12, 6))\n",
    "sns.heatmap(heatmap_data, cmap=\"Blues\", linewidths=0.5, annot=False)\n",
    "plt.title(\"Ride Volume by Hour and Weekday\")\n",
    "plt.xlabel(\"Hour of Day\")\n",
    "plt.ylabel(\"Weekday\")\n",
    "plt.tight_layout()\n",
    "plt.show()\n"
   ]
  },
  {
   "cell_type": "markdown",
   "id": "14bb392c-509b-4c8a-90f2-ad25f6bdd81f",
   "metadata": {},
   "source": [
    "The results indicate higher activity during weekend nights and Sunday mornings.  \n",
    "Sunday evenings show a decline, likely as the city winds down before the start of the workweek."
   ]
  },
  {
   "cell_type": "markdown",
   "id": "2d6431c4-bcec-4478-ba66-aca21aea85fc",
   "metadata": {},
   "source": [
    "The next plot compares average trip distance and fare across different hours of the day."
   ]
  },
  {
   "cell_type": "code",
   "execution_count": null,
   "id": "6d2edfbc-2aac-4188-b4f6-7de231433ae1",
   "metadata": {},
   "outputs": [],
   "source": [
    "df_with_hour = df.withColumn(\"hour\", hour(\"pickup_datetime\"))\n"
   ]
  },
  {
   "cell_type": "code",
   "execution_count": null,
   "id": "c7745ec9-a379-4893-b43d-9ef6b5fd3532",
   "metadata": {},
   "outputs": [],
   "source": [
    "avg_miles = df_with_hour.groupBy(\"hour\").avg(\"trip_miles\").orderBy(\"hour\")\n"
   ]
  },
  {
   "cell_type": "code",
   "execution_count": null,
   "id": "078ba934-887d-43e2-8076-2fec058ddea1",
   "metadata": {},
   "outputs": [],
   "source": [
    "avg_fare = df_with_hour.groupBy(\"hour\").avg(\"base_passenger_fare\").orderBy(\"hour\")\n"
   ]
  },
  {
   "cell_type": "code",
   "execution_count": null,
   "id": "aa6b10d5-2de9-4b76-a5ac-51af1f3d8d4e",
   "metadata": {},
   "outputs": [],
   "source": [
    "avg_metrics = df_with_hour.groupBy(\"hour\").agg(\n",
    "    {\"trip_miles\": \"avg\", \"base_passenger_fare\": \"avg\"}\n",
    ").orderBy(\"hour\")\n"
   ]
  },
  {
   "cell_type": "code",
   "execution_count": null,
   "id": "f38a55c3-e308-474d-8bbb-754c3e83dfde",
   "metadata": {},
   "outputs": [],
   "source": [
    "pdf = avg_metrics.toPandas()\n",
    "pdf.columns = [\"hour\", \"avg_trip_miles\", \"avg_base_fare\"]\n"
   ]
  },
  {
   "cell_type": "code",
   "execution_count": null,
   "id": "683b78b3-2f3b-4eb1-912a-1bba23543f82",
   "metadata": {},
   "outputs": [],
   "source": [
    "\n",
    "fig, ax1 = plt.subplots(figsize=(10, 5))\n",
    "\n",
    "ax1.set_xlabel(\"Hour of Day\")\n",
    "ax1.set_ylabel(\"Avg Trip Miles\", color=\"tab:blue\")\n",
    "ax1.plot(pdf[\"hour\"], pdf[\"avg_trip_miles\"], color=\"tab:blue\", marker=\"o\", label=\"Avg Miles\")\n",
    "ax1.tick_params(axis='y', labelcolor=\"tab:blue\")\n",
    "\n",
    "ax2 = ax1.twinx()\n",
    "ax2.set_ylabel(\"Avg Fare ($)\", color=\"tab:red\")\n",
    "ax2.plot(pdf[\"hour\"], pdf[\"avg_base_fare\"], color=\"tab:red\", marker=\"x\", label=\"Avg Fare\")\n",
    "ax2.tick_params(axis='y', labelcolor=\"tab:red\")\n",
    "\n",
    "plt.title(\"Average Trip Distance and Fare by Hour\")\n",
    "fig.tight_layout()\n",
    "plt.show()\n"
   ]
  },
  {
   "cell_type": "markdown",
   "id": "54e496ef-bb7d-4242-ab84-c7082e437305",
   "metadata": {},
   "source": [
    "Driving between 12 PM and 7 PM appears to yield lower fare-per-mile ratios, suggesting this may be a less profitable period for drivers."
   ]
  },
  {
   "cell_type": "markdown",
   "id": "ccd115c6-ce6b-48af-90cb-c88655c5fddb",
   "metadata": {},
   "source": [
    "This plot explores the relationship between trip distance and tip amount."
   ]
  },
  {
   "cell_type": "code",
   "execution_count": null,
   "id": "1821fd4d-f1e5-4042-acd0-0a5f565a8539",
   "metadata": {},
   "outputs": [],
   "source": [
    "sample_df = df.select(\"trip_miles\", \"tips\").dropna().limit(10000000)\n",
    "pdf = sample_df.toPandas()\n",
    "\n",
    "plt.figure(figsize=(8, 6))\n",
    "plt.scatter(pdf[\"trip_miles\"], pdf[\"tips\"], alpha=0.3, s=5)\n",
    "plt.xlabel(\"Trip Miles\")\n",
    "plt.ylabel(\"Tips ($)\")\n",
    "plt.title(\"Trip Distance vs Tip\")\n",
    "plt.grid(True)\n",
    "plt.show()\n"
   ]
  },
  {
   "cell_type": "markdown",
   "id": "23584187-00d6-460b-8d38-083747c942e2",
   "metadata": {},
   "source": [
    "A positive correlation is observed, although tips do not increase proportionally with distance."
   ]
  },
  {
   "cell_type": "markdown",
   "id": "e1a6fd5e-81e9-4778-9190-f0cab6461ad9",
   "metadata": {},
   "source": [
    "The next two plots is to view the relation between the Driver Pay and two main variables, Trip Duration and Trip Distance."
   ]
  },
  {
   "cell_type": "code",
   "execution_count": null,
   "id": "0a3a6f15-38cd-4d2b-b838-19b4d28a8122",
   "metadata": {},
   "outputs": [],
   "source": [
    "sample_df = df.select(\"trip_time\", \"driver_pay\") \\\n",
    "              .dropna() \\\n",
    "              .filter(\"trip_time > 0 AND driver_pay > 0\") \\\n",
    "              .limit(10000000)\n",
    "\n",
    "pdf = sample_df.toPandas()\n"
   ]
  },
  {
   "cell_type": "code",
   "execution_count": null,
   "id": "c29300e0-9b17-4bdd-afed-9b63b601c8ae",
   "metadata": {},
   "outputs": [],
   "source": [
    "pdf[\"trip_time_minutes\"] = pdf[\"trip_time\"] / 60\n"
   ]
  },
  {
   "cell_type": "code",
   "execution_count": null,
   "id": "6a26bd19-4f94-4396-b82a-e848891c506b",
   "metadata": {},
   "outputs": [],
   "source": [
    "\n",
    "\n",
    "plt.figure(figsize=(10, 6))\n",
    "plt.scatter(pdf[\"trip_time_minutes\"], pdf[\"driver_pay\"], alpha=0.3, s=5)\n",
    "plt.xlabel(\"Trip Time (minutes)\")\n",
    "plt.ylabel(\"Driver Pay ($)\")\n",
    "plt.title(\"Trip Duration vs Driver Pay\")\n",
    "plt.grid(True)\n",
    "plt.show()\n"
   ]
  },
  {
   "cell_type": "markdown",
   "id": "fc5790a6-55e8-4b5e-86d5-6f5ec2925b3a",
   "metadata": {},
   "source": [
    "### Trip Duration vs. Driver Pay\n",
    "\n",
    "This plot illustrates the relationship between trip duration and driver pay.\n",
    "\n",
    "As expected, longer trip durations generally correspond to higher driver earnings.  \n",
    "However, the relationship may not be strictly linear due to factors such as traffic, minimum fare policies, and waiting time charges.\n"
   ]
  },
  {
   "cell_type": "code",
   "execution_count": null,
   "id": "52bc0692-d6c7-4161-81a3-d384da4564f5",
   "metadata": {},
   "outputs": [],
   "source": [
    "sample_df = df.select(\"trip_miles\", \"driver_pay\") \\\n",
    "              .dropna() \\\n",
    "              .filter(\"trip_miles > 0 AND driver_pay > 0\") \\\n",
    "              .limit(10000000)\n",
    "\n",
    "pdf = sample_df.toPandas()\n"
   ]
  },
  {
   "cell_type": "code",
   "execution_count": null,
   "id": "85d3dfc0-d63b-4633-915f-5a603172d627",
   "metadata": {},
   "outputs": [],
   "source": [
    "plt.figure(figsize=(10, 6))\n",
    "plt.scatter(pdf[\"trip_miles\"], pdf[\"driver_pay\"], alpha=0.3, s=5)\n",
    "plt.xlabel(\"Trip Miles\")\n",
    "plt.ylabel(\"Driver Pay ($)\")\n",
    "plt.title(\"Trip Distance vs Driver Pay\")\n",
    "plt.grid(True)\n",
    "plt.show()\n"
   ]
  },
  {
   "cell_type": "markdown",
   "id": "44e67c62-3e06-4944-ba18-15691a5caf03",
   "metadata": {},
   "source": [
    "### Trip Distance vs. Driver Pay\n",
    "\n",
    "This plot illustrates the relationship between trip distance (in miles) and driver pay.\n",
    "\n",
    "Driver earnings increase with distance, reflecting the fare structure based on mileage.  \n",
    "The spread of data points also indicates variability, suggesting other factors like time of day, traffic, and surge pricing may influence pay beyond just distance.\n",
    "\n"
   ]
  },
  {
   "cell_type": "markdown",
   "id": "67f1b83a-cabd-47bf-a1b6-17324f6edccf",
   "metadata": {},
   "source": [
    "# Milestone 3\n",
    "Selecting a Model to run for initial predictions\n",
    "\n",
    "# Linear Regresson\n"
   ]
  },
  {
   "cell_type": "code",
   "execution_count": null,
   "id": "c0fe862b-a5f1-4758-9af1-94910095a67c",
   "metadata": {},
   "outputs": [],
   "source": [
    "Under this notebook, we only run the model for initial observation without major preprocessing of the data."
   ]
  },
  {
   "cell_type": "markdown",
   "id": "39f61480-fe0a-49b4-bd1d-ee7c3e778ca2",
   "metadata": {},
   "source": [
    "First we select the important features for the model"
   ]
  },
  {
   "cell_type": "code",
   "execution_count": 20,
   "id": "fac6d43c-2c74-42e9-990d-c6415f93a9d7",
   "metadata": {},
   "outputs": [],
   "source": [
    "feature_cols = [\n",
    "    \"trip_miles\", \"trip_time\", \"base_passenger_fare\", \"tips\",\n",
    "    \"hour\", \"weekday\",\"PULocationID\", \"DOLocationID\"\n",
    "]\n"
   ]
  },
  {
   "cell_type": "code",
   "execution_count": 21,
   "id": "b114685c-aa4b-4d50-92fb-11fd7a277e72",
   "metadata": {},
   "outputs": [],
   "source": [
    "from pyspark.sql.functions import dayofweek\n",
    "df_hour_day = df_hour_day.withColumn(\"weekday\", dayofweek(\"pickup_datetime\").cast(\"int\"))"
   ]
  },
  {
   "cell_type": "code",
   "execution_count": 22,
   "id": "5fb8f340-4183-4b58-8f61-a00616358b8d",
   "metadata": {},
   "outputs": [],
   "source": [
    "from pyspark.ml.feature import VectorAssembler\n",
    "\n",
    "assembler = VectorAssembler(inputCols=feature_cols, outputCol=\"features\")\n",
    "df_model = assembler.transform(df_hour_day).select(\"features\", \"driver_pay\")\n"
   ]
  },
  {
   "cell_type": "markdown",
   "id": "f089417d-a8d3-4ada-a9b8-c1cc8544b776",
   "metadata": {},
   "source": [
    "We use a sample of data to have the model train on "
   ]
  },
  {
   "cell_type": "code",
   "execution_count": 23,
   "id": "e7c145b3-5123-4df4-ae48-de68152570c7",
   "metadata": {},
   "outputs": [],
   "source": [
    "df_sample = df_model.sample(fraction=0.01, seed=42)  # around 7.4 M rows\n",
    "train, test = df_sample.randomSplit([0.8, 0.2], seed=42)\n"
   ]
  },
  {
   "cell_type": "markdown",
   "id": "24325836-f3cb-419e-a60c-8c9f78e91171",
   "metadata": {},
   "source": [
    "We import the model and define it"
   ]
  },
  {
   "cell_type": "code",
   "execution_count": 24,
   "id": "1fb8e178-d094-4cee-817b-c1b02c064507",
   "metadata": {},
   "outputs": [],
   "source": [
    "from pyspark.ml.regression import LinearRegression\n",
    "\n",
    "lr = LinearRegression(featuresCol=\"features\", labelCol=\"driver_pay\")"
   ]
  },
  {
   "cell_type": "markdown",
   "id": "6527f0b2-7c41-4639-9b69-75169f7829d2",
   "metadata": {},
   "source": [
    "We train the model"
   ]
  },
  {
   "cell_type": "code",
   "execution_count": 25,
   "id": "c6f135b1-ef93-4848-ac73-2137228f24fb",
   "metadata": {},
   "outputs": [],
   "source": [
    "lr_model = lr.fit(train)"
   ]
  },
  {
   "cell_type": "markdown",
   "id": "9067e138-2790-4d61-a9d9-de9c2988ae02",
   "metadata": {},
   "source": [
    "We evaluate the regression performance of the model by looking at RMSE, MAE, and R²"
   ]
  },
  {
   "cell_type": "code",
   "execution_count": 26,
   "id": "fbcd5737-adbe-4e24-9902-bd46ff1b9c16",
   "metadata": {},
   "outputs": [
    {
     "name": "stdout",
     "output_type": "stream",
     "text": [
      "Linear Regression:\n",
      "  RMSE: 4.85 | MAE: 2.69 | R²: 0.880\n"
     ]
    }
   ],
   "source": [
    "predictions_lr = lr_model.transform(test)\n",
    "\n",
    "from pyspark.ml.evaluation import RegressionEvaluator\n",
    "\n",
    "rmse_lr = RegressionEvaluator(labelCol=\"driver_pay\", predictionCol=\"prediction\", metricName=\"rmse\").evaluate(predictions_lr)\n",
    "r2_lr = RegressionEvaluator(labelCol=\"driver_pay\", predictionCol=\"prediction\", metricName=\"r2\").evaluate(predictions_lr)\n",
    "mae_lr = RegressionEvaluator(labelCol=\"driver_pay\", predictionCol=\"prediction\", metricName=\"mae\").evaluate(predictions_lr)\n",
    "\n",
    "print(f\"Linear Regression:\\n  RMSE: {rmse_lr:.2f} | MAE: {mae_lr:.2f} | R²: {r2_lr:.3f}\")\n"
   ]
  },
  {
   "cell_type": "markdown",
   "id": "3b649da6-9cc1-4a5d-bd32-565af851d976",
   "metadata": {},
   "source": [
    "RMSE and MAE show the deviation on model predictions from actual values. Since the RMSE is larger, the model is making large errors that model penalizes more.\n",
    "R² shows that overall how well our model fits the data. \n"
   ]
  },
  {
   "cell_type": "markdown",
   "id": "1036720a-8740-4f2b-b68d-1945269e97a2",
   "metadata": {},
   "source": [
    "We plot the predictions vs Actuals to analyze the predictions visually."
   ]
  },
  {
   "cell_type": "code",
   "execution_count": 27,
   "id": "3d1226a5-c240-47d1-b280-127505bb66fb",
   "metadata": {},
   "outputs": [],
   "source": [
    "predictions_lr = lr_model.transform(test) # around 1.5 K\n"
   ]
  },
  {
   "cell_type": "code",
   "execution_count": 28,
   "id": "49eb05dd-049b-45f4-8bd8-4e3405eed432",
   "metadata": {},
   "outputs": [],
   "source": [
    "pdf_lr = predictions_lr.select(\"driver_pay\", \"prediction\").sample(fraction=0.01, seed=42).toPandas() # around 15 K\n"
   ]
  },
  {
   "cell_type": "code",
   "execution_count": 44,
   "id": "941fac45-c529-40b6-81e3-c7b2045c41e0",
   "metadata": {},
   "outputs": [
    {
     "data": {
      "image/png": "[encoded data removed]",
      "text/plain": [
       "<Figure size 800x600 with 1 Axes>"
      ]
     },
     "metadata": {},
     "output_type": "display_data"
    }
   ],
   "source": [
    "plt.figure(figsize=(8, 6))\n",
    "plt.scatter(pdf_lr[\"driver_pay\"], pdf_lr[\"prediction\"], alpha=0.3, s=5)\n",
    "plt.xlabel(\"Actual Driver Pay\")\n",
    "plt.ylabel(\"Predicted Driver Pay\")\n",
    "plt.title(\"Linear Regression: Predicted vs Actual Driver Pay\")\n",
    "plt.grid(True)\n",
    "plt.show()"
   ]
  },
  {
   "cell_type": "markdown",
   "id": "1d51cc32-fa32-414e-97dd-d685deb56728",
   "metadata": {},
   "source": [
    "The plot shows that we have a lot of predictions with values (non zero) that the driver pay is zero. This means that there are some data instances that have zero payments which is not correct. Also after $75 the plot spreads while losing density with addition of more outliers.\n",
    "Therefore on the next notebook we remove these values in the data and repeat the process."
   ]
  }
 ],
 "metadata": {
  "kernelspec": {
   "display_name": "Python 3 (ipykernel)",
   "language": "python",
   "name": "python3"
  },
  "language_info": {
   "codemirror_mode": {
    "name": "ipython",
    "version": 3
   },
   "file_extension": ".py",
   "mimetype": "text/x-python",
   "name": "python",
   "nbconvert_exporter": "python",
   "pygments_lexer": "ipython3",
   "version": "3.11.6"
  }
 },
 "nbformat": 4,
 "nbformat_minor": 5
}
